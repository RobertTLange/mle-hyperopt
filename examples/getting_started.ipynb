{
 "cells": [
  {
   "cell_type": "markdown",
   "id": "08f9d077-64ed-4dc3-b772-498569e96d2b",
   "metadata": {
    "tags": []
   },
   "source": [
    "# `mle-hyperopt`: Lightweight Hyperparameter Optimization\n",
    "### Author: [@RobertTLange](https://twitter.com/RobertTLange) [Last Update: October 2021] [![Colab](https://colab.research.google.com/assets/colab-badge.svg)](https://colab.research.google.com/github/RobertTLange/mle-logging/blob/main/examples/getting_started.ipynb)"
   ]
  },
  {
   "cell_type": "code",
   "execution_count": 1,
   "id": "35d6d0bc-7789-439d-8ba9-e5c2619bfee0",
   "metadata": {},
   "outputs": [],
   "source": [
    "%load_ext autoreload\n",
    "%autoreload 2\n",
    "%config InlineBackend.figure_format = 'retina'\n",
    "\n",
    "#!pip install -q mle-hyperopt"
   ]
  },
  {
   "cell_type": "code",
   "execution_count": 2,
   "id": "b1ff5d35-b29e-4386-b423-9c83ad1ae169",
   "metadata": {},
   "outputs": [],
   "source": [
    "def fake_train(lrate, batch_size, arch):\n",
    "    \"\"\" Optimum: lrate=0.2, batch_size=4, arch='conv'.\"\"\"\n",
    "    f1 = ((lrate - 0.2) ** 2 + (batch_size - 4) ** 2\n",
    "          + (0 if arch == \"conv\" else 10))\n",
    "    return f1"
   ]
  },
  {
   "cell_type": "markdown",
   "id": "b84d6078-40a7-4715-89db-927b0e380025",
   "metadata": {},
   "source": [
    "## Basic API Usage: Grid Search\n",
    "\n",
    "Note that the API assumes that we are minimizing an objective. If you want to maximize simply multiply all objective values with minus 1."
   ]
  },
  {
   "cell_type": "code",
   "execution_count": 3,
   "id": "19c7488b-34a3-47fc-837a-f088cfaa48ab",
   "metadata": {},
   "outputs": [],
   "source": [
    "from mle_hyperopt import GridSearch\n",
    "# Instantiate grid search class\n",
    "strategy = GridSearch(real={\"lrate\": {\"begin\": 0.1,\n",
    "                                      \"end\": 0.5,\n",
    "                                      \"bins\": 5}},\n",
    "                      integer={\"batch_size\": {\"begin\": 1,\n",
    "                                              \"end\": 5,\n",
    "                                              \"spacing\": 1}},\n",
    "                      categorical={\"arch\": [\"mlp\", \"cnn\"]})\n",
    "\n",
    "# Simple ask - eval - tell API\n",
    "configs = strategy.ask(batch_size=2)\n",
    "values = [fake_train(**c) for c in configs]"
   ]
  },
  {
   "cell_type": "code",
   "execution_count": 4,
   "id": "057f6ced-c142-4a42-93d9-cc58246d14df",
   "metadata": {},
   "outputs": [
    {
     "data": {
      "text/plain": [
       "([{'arch': 'mlp', 'batch_size': 1, 'lrate': 0.1},\n",
       "  {'arch': 'mlp', 'batch_size': 1, 'lrate': 0.2}],\n",
       " [19.009999999999998, 19.0])"
      ]
     },
     "execution_count": 4,
     "metadata": {},
     "output_type": "execute_result"
    }
   ],
   "source": [
    "strategy.tell(configs, values)\n",
    "configs, values"
   ]
  },
  {
   "cell_type": "markdown",
   "id": "c69df333-f2d6-4479-b588-23966b459a9a",
   "metadata": {},
   "source": [
    "### Saving and reloading previous search results"
   ]
  },
  {
   "cell_type": "code",
   "execution_count": 5,
   "id": "6be549ca-4062-4a33-b40c-b0a7217bc859",
   "metadata": {},
   "outputs": [
    {
     "name": "stdout",
     "output_type": "stream",
     "text": [
      "Stored 2 search iterations.\n"
     ]
    }
   ],
   "source": [
    "# Storing of results to .pkl\n",
    "strategy.save(\"search_log.json\")"
   ]
  },
  {
   "cell_type": "code",
   "execution_count": 6,
   "id": "898a0a3d-f8a0-4af2-9131-64ed6f08a828",
   "metadata": {},
   "outputs": [
    {
     "name": "stdout",
     "output_type": "stream",
     "text": [
      "{'arch': 'mlp', 'batch_size': 1, 'lrate': 0.1} was previously evaluated.\n",
      "{'arch': 'mlp', 'batch_size': 1, 'lrate': 0.2} was previously evaluated.\n",
      "Reloaded 0 previous search iterations.\n"
     ]
    }
   ],
   "source": [
    "# Reloading of results from .pkl\n",
    "strategy.load(\"search_log.json\")"
   ]
  },
  {
   "cell_type": "code",
   "execution_count": 7,
   "id": "78f83648-b46a-4ecd-9b6e-696a211d765a",
   "metadata": {},
   "outputs": [
    {
     "data": {
      "text/plain": [
       "[{'eval_id': 0,\n",
       "  'params': {'arch': 'mlp', 'batch_size': 1, 'lrate': 0.1},\n",
       "  'objective': 19.009999999999998},\n",
       " {'eval_id': 1,\n",
       "  'params': {'arch': 'mlp', 'batch_size': 1, 'lrate': 0.2},\n",
       "  'objective': 19.0}]"
      ]
     },
     "execution_count": 7,
     "metadata": {},
     "output_type": "execute_result"
    }
   ],
   "source": [
    "strategy.log"
   ]
  },
  {
   "cell_type": "code",
   "execution_count": 8,
   "id": "d0309087-669c-41c6-b450-0275b6680459",
   "metadata": {},
   "outputs": [
    {
     "name": "stdout",
     "output_type": "stream",
     "text": [
      "Reloaded 2 previous search iterations.\n"
     ]
    }
   ],
   "source": [
    "strategy = GridSearch(real={\"lrate\": {\"begin\": 0.1,\n",
    "                                      \"end\": 0.5,\n",
    "                                      \"bins\": 5}},\n",
    "                      integer={\"batch_size\": {\"begin\": 1,\n",
    "                                              \"end\": 5,\n",
    "                                              \"spacing\": 1}},\n",
    "                      categorical={\"arch\": [\"mlp\", \"cnn\"]},\n",
    "                      reload_path=\"search_log.json\")"
   ]
  },
  {
   "cell_type": "markdown",
   "id": "aae59ff3-7b18-47eb-bf34-18565db7e13b",
   "metadata": {},
   "source": [
    "### Inspecting the search results"
   ]
  },
  {
   "cell_type": "code",
   "execution_count": 9,
   "id": "64942eeb-4dae-403f-80f5-ad94ea902344",
   "metadata": {},
   "outputs": [
    {
     "data": {
      "text/html": [
       "<div>\n",
       "<style scoped>\n",
       "    .dataframe tbody tr th:only-of-type {\n",
       "        vertical-align: middle;\n",
       "    }\n",
       "\n",
       "    .dataframe tbody tr th {\n",
       "        vertical-align: top;\n",
       "    }\n",
       "\n",
       "    .dataframe thead th {\n",
       "        text-align: right;\n",
       "    }\n",
       "</style>\n",
       "<table border=\"1\" class=\"dataframe\">\n",
       "  <thead>\n",
       "    <tr style=\"text-align: right;\">\n",
       "      <th></th>\n",
       "      <th>eval_id</th>\n",
       "      <th>objective</th>\n",
       "      <th>arch</th>\n",
       "      <th>batch_size</th>\n",
       "      <th>lrate</th>\n",
       "    </tr>\n",
       "  </thead>\n",
       "  <tbody>\n",
       "    <tr>\n",
       "      <th>0</th>\n",
       "      <td>0</td>\n",
       "      <td>19.01</td>\n",
       "      <td>mlp</td>\n",
       "      <td>1</td>\n",
       "      <td>0.1</td>\n",
       "    </tr>\n",
       "    <tr>\n",
       "      <th>1</th>\n",
       "      <td>1</td>\n",
       "      <td>19.00</td>\n",
       "      <td>mlp</td>\n",
       "      <td>1</td>\n",
       "      <td>0.2</td>\n",
       "    </tr>\n",
       "  </tbody>\n",
       "</table>\n",
       "</div>"
      ],
      "text/plain": [
       "   eval_id  objective arch  batch_size  lrate\n",
       "0        0      19.01  mlp           1    0.1\n",
       "1        1      19.00  mlp           1    0.2"
      ]
     },
     "execution_count": 9,
     "metadata": {},
     "output_type": "execute_result"
    }
   ],
   "source": [
    "# Return flattened log as pandas dataframe\n",
    "strategy.to_df()"
   ]
  },
  {
   "cell_type": "code",
   "execution_count": 10,
   "id": "77c6a1ef-fcdc-404a-b161-77d77242229d",
   "metadata": {},
   "outputs": [
    {
     "data": {
      "text/plain": [
       "({'arch': 'mlp', 'batch_size': 1, 'lrate': 0.2}, 19.0)"
      ]
     },
     "execution_count": 10,
     "metadata": {},
     "output_type": "execute_result"
    }
   ],
   "source": [
    "# Retrieving the best performing configuration\n",
    "strategy.get_best()"
   ]
  },
  {
   "cell_type": "code",
   "execution_count": 11,
   "id": "b7490e4d-bf23-491e-a603-229b6a52add8",
   "metadata": {},
   "outputs": [
    {
     "data": {
      "text/plain": [
       "(<Figure size 432x288 with 1 Axes>,\n",
       " <AxesSubplot:title={'center':'Best Objective Value'}, xlabel='# Config Evaluations', ylabel='Objective'>)"
      ]
     },
     "execution_count": 11,
     "metadata": {},
     "output_type": "execute_result"
    },
    {
     "data": {
      "image/png": "[encoded data removed]",
      "text/plain": [
       "<Figure size 432x288 with 1 Axes>"
      ]
     },
     "metadata": {
      "image/png": {
       "height": 250,
       "width": 392
      }
     },
     "output_type": "display_data"
    }
   ],
   "source": [
    "# Plot timeseries of best performing score over search iterations\n",
    "strategy.plot_best()"
   ]
  },
  {
   "cell_type": "markdown",
   "id": "289a9690-f708-4c15-847c-73a9b2be6abc",
   "metadata": {},
   "source": [
    "### Adding fixed parameters & storing configuration files"
   ]
  },
  {
   "cell_type": "code",
   "execution_count": 12,
   "id": "d312aece-7a41-4ada-84e2-c0c79497af30",
   "metadata": {},
   "outputs": [
    {
     "data": {
      "text/plain": [
       "([{'arch': 'mlp', 'batch_size': 1, 'lrate': 0.1, 'momentum': 0.9},\n",
       "  {'arch': 'mlp', 'batch_size': 1, 'lrate': 0.2, 'momentum': 0.9}],\n",
       " ['eval_0.yaml', 'eval_1.yaml'])"
      ]
     },
     "execution_count": 12,
     "metadata": {},
     "output_type": "execute_result"
    }
   ],
   "source": [
    "strategy = GridSearch(real={\"lrate\": {\"begin\": 0.1,\n",
    "                                      \"end\": 0.5,\n",
    "                                      \"bins\": 5}},\n",
    "                      integer={\"batch_size\": {\"begin\": 1,\n",
    "                                              \"end\": 5,\n",
    "                                              \"spacing\": 1}},\n",
    "                      categorical={\"arch\": [\"mlp\", \"cnn\"]},\n",
    "                      fixed_params={\"momentum\": 0.9})\n",
    "strategy.ask(2, store=True)"
   ]
  },
  {
   "cell_type": "markdown",
   "id": "e861c990-2497-44a7-a956-a44be45eadc6",
   "metadata": {},
   "source": [
    "## Single-Objective: Random Search"
   ]
  },
  {
   "cell_type": "code",
   "execution_count": 18,
   "id": "0d9c2fa2-2941-49ca-9f34-49b9a0e53b0b",
   "metadata": {},
   "outputs": [
    {
     "name": "stdout",
     "output_type": "stream",
     "text": [
      "Refined the random search space:\n",
      "Real: {'lrate': {'begin': 0.12256463161084011, 'end': 0.34044600469728353, 'prior': 'uniform'}}\n",
      "Integer: {'batch_size': {'begin': 3, 'end': 3, 'prior': 'log-uniform'}}\n",
      "Categorical: {'arch': ['cnn', 'mlp']}\n"
     ]
    }
   ],
   "source": [
    "from mle_hyperopt import RandomSearch\n",
    "\n",
    "strategy = RandomSearch(real={\"lrate\": {\"begin\": 0.1,\n",
    "                                        \"end\": 0.5,\n",
    "                                        \"prior\": \"uniform\"}},\n",
    "                        integer={\"batch_size\": {\"begin\": 1,\n",
    "                                                \"end\": 5,\n",
    "                                                \"prior\": \"log-uniform\"}},\n",
    "                        categorical={\"arch\": [\"mlp\", \"cnn\"]},\n",
    "                        search_config={\"refine_after\": 5,\n",
    "                                       \"refine_top_k\": 2})\n",
    "\n",
    "configs = strategy.ask(5)\n",
    "values = [fake_train(**c) for c in configs]\n",
    "strategy.tell(configs, values)"
   ]
  },
  {
   "cell_type": "code",
   "execution_count": 19,
   "id": "6beaab87-b7b1-4548-9f37-8d57b820c68a",
   "metadata": {},
   "outputs": [
    {
     "data": {
      "text/plain": [
       "([{'arch': 'cnn', 'lrate': 0.12256463161084011, 'batch_size': 3},\n",
       "  {'arch': 'mlp', 'lrate': 0.34044600469728353, 'batch_size': 3}],\n",
       " [11.005996236277564, 11.01972508023543])"
      ]
     },
     "execution_count": 19,
     "metadata": {},
     "output_type": "execute_result"
    }
   ],
   "source": [
    "strategy.get_best(2)"
   ]
  },
  {
   "cell_type": "code",
   "execution_count": 20,
   "id": "58c2f77d-2848-4af0-8e9d-ff645c076b94",
   "metadata": {},
   "outputs": [
    {
     "name": "stdout",
     "output_type": "stream",
     "text": [
      "11.005996236277564 {'arch': 'cnn', 'lrate': 0.12256463161084011, 'batch_size': 3}\n",
      "11.01972508023543 {'arch': 'mlp', 'lrate': 0.34044600469728353, 'batch_size': 3}\n",
      "14.003601204141411 {'arch': 'mlp', 'lrate': 0.13998996632720118, 'batch_size': 2}\n",
      "19.019450038176412 {'arch': 'cnn', 'lrate': 0.3394633936788146, 'batch_size': 1}\n"
     ]
    }
   ],
   "source": [
    "strategy.print_ranking(4)"
   ]
  },
  {
   "cell_type": "markdown",
   "id": "6cff0d18-988b-4b57-a74e-0191e1834b4b",
   "metadata": {},
   "source": [
    "## Single-Objective: Sequential Model-Based Optimization (SMBO)"
   ]
  },
  {
   "cell_type": "code",
   "execution_count": null,
   "id": "b72b435e-5141-4389-a0ae-4de9f1d60f0c",
   "metadata": {},
   "outputs": [],
   "source": [
    "from mle_hyperopt import SMBOSearch\n",
    "\n",
    "strategy = SMBOSearch(real={\"lrate\": {\"begin\": 0.1,\n",
    "                                      \"end\": 0.5,\n",
    "                                      \"prior\": \"uniform\"}},\n",
    "                      integer={\"batch_size\": {\"begin\": 1,\n",
    "                                              \"end\": 5,\n",
    "                                              \"prior\": \"uniform\"}},\n",
    "                      search_config={\"base_estimator\": \"GP\",\n",
    "                                     \"acq_function\": \"gp_hedge\",\n",
    "                                     \"n_initial_points\": 5},\n",
    "                      fixed_params={\"arch\": \"cnn\"})\n",
    "\n",
    "configs = strategy.ask(5)\n",
    "values = [fake_train(**c) for c in configs]\n",
    "strategy.tell(configs, values)"
   ]
  },
  {
   "cell_type": "code",
   "execution_count": null,
   "id": "3602f43c-c190-4fd0-a45b-6d80cfa4fd16",
   "metadata": {},
   "outputs": [],
   "source": [
    "strategy.print_ranking(4)"
   ]
  },
  {
   "cell_type": "markdown",
   "id": "04f28a40-32f2-4662-8e39-801019a5a03e",
   "metadata": {},
   "source": [
    "## Multi-Objective: `nevergrad`"
   ]
  },
  {
   "cell_type": "code",
   "execution_count": null,
   "id": "0bd69fd1-76bf-44ed-9025-fb4302d0bfec",
   "metadata": {},
   "outputs": [],
   "source": [
    "from mle_hyperopt import NevergradSearch\n",
    "\n",
    "strategy = NevergradSearch(real={\"lrate\": {\"begin\": 0.1,\n",
    "                                      \"end\": 0.5,\n",
    "                                      \"prior\": \"uniform\"}},\n",
    "                           integer={\"batch_size\": {\"begin\": 1,\n",
    "                                                   \"end\": 5,\n",
    "                                                   \"prior\": \"uniform\"}},\n",
    "                           search_config={\"optimizer\": \"NGOpt\",\n",
    "                                          \"budget_size\": 100,\n",
    "                                          \"num_workers\": 5},\n",
    "                           fixed_params={\"arch\": \"cnn\"})\n",
    "\n",
    "configs = strategy.ask(5)\n",
    "values = [fake_train(**c) for c in configs]\n",
    "strategy.tell(configs, values)\n",
    "strategy.print_ranking(4)"
   ]
  },
  {
   "cell_type": "code",
   "execution_count": null,
   "id": "e85b4e98-0c67-4478-bae7-207203378831",
   "metadata": {},
   "outputs": [],
   "source": [
    "def multi_fake_train(lrate, batch_size, arch):\n",
    "    # optimal for learning_rate=0.2, batch_size=4, architecture=\"conv\"\n",
    "    f1 = ((lrate - 0.2) ** 2 + (batch_size - 4) ** 2\n",
    "          + (0 if arch == \"conv\" else 10))\n",
    "    # optimal for learning_rate=0.3, batch_size=2, architecture=\"mlp\"\n",
    "    f2 = ((lrate - 0.3) ** 2 + (batch_size - 2) ** 2\n",
    "          + (0 if arch == \"mlp\" else 5))\n",
    "    return f1, f2"
   ]
  },
  {
   "cell_type": "code",
   "execution_count": null,
   "id": "28631203-c216-4f71-aa58-038c83c7db3c",
   "metadata": {},
   "outputs": [],
   "source": [
    "strategy = NevergradSearch(real={\"lrate\": {\"begin\": 0.1,\n",
    "                                      \"end\": 0.5,\n",
    "                                      \"prior\": \"uniform\"}},\n",
    "                           integer={\"batch_size\": {\"begin\": 1,\n",
    "                                                   \"end\": 5,\n",
    "                                                   \"prior\": \"uniform\"}},\n",
    "                           search_config={\"optimizer\": \"NGOpt\",\n",
    "                                          \"budget_size\": 100,\n",
    "                                          \"num_workers\": 5},\n",
    "                           fixed_params={\"arch\": \"cnn\"})\n",
    "\n",
    "configs = strategy.ask(5)\n",
    "values = [multi_fake_train(**c) for c in configs]\n",
    "strategy.tell(configs, values)\n",
    "strategy.log"
   ]
  },
  {
   "cell_type": "code",
   "execution_count": null,
   "id": "8018e5ad-4e9c-4291-841e-2da05d1222a2",
   "metadata": {},
   "outputs": [],
   "source": [
    "strategy.print_ranking()"
   ]
  },
  {
   "cell_type": "markdown",
   "id": "c7a07dae-cc95-4ad0-af14-f30a672a12c0",
   "metadata": {},
   "source": [
    "## Coordinate-Wise Search\n",
    "\n",
    "Start scanning one parameter for fixed others and a fixed budget. Afterwards, fix the optimized parameter to best value and go over to next parameter. Repeat until all parameters are done. `search_config` specifies order of parameters and their default. Internally, we run a coordinate-wise grid search."
   ]
  },
  {
   "cell_type": "code",
   "execution_count": null,
   "id": "b078c46b-71b7-4891-93c6-56651ede3961",
   "metadata": {},
   "outputs": [],
   "source": [
    "from mle_hyperopt import CoordinateSearch\n",
    "strategy = CoordinateSearch(real={\"lrate\": {\"begin\": 0.1,\n",
    "                                            \"end\": 0.5,\n",
    "                                            \"bins\": 5}},\n",
    "                            integer={\"batch_size\": {\"begin\": 1,\n",
    "                                                    \"end\": 5,\n",
    "                                                    \"spacing\": \"1\"}},\n",
    "                            search_config={\"order\": [\"lrate\", \"batch_size\"],\n",
    "                                           \"defaults\": {\"lrate\": 0.1,\n",
    "                                                        \"batch_size\": 3}},\n",
    "                            fixed_params={\"arch\": \"cnn\"})\n",
    "\n",
    "configs = strategy.ask(5)\n",
    "configs"
   ]
  },
  {
   "cell_type": "code",
   "execution_count": null,
   "id": "5191113d-debe-401f-b1a7-45b9a6626364",
   "metadata": {},
   "outputs": [],
   "source": [
    "values = [fake_train(**c) for c in configs]\n",
    "strategy.tell(configs, values)\n",
    "strategy.log"
   ]
  },
  {
   "cell_type": "code",
   "execution_count": null,
   "id": "bb1e37cf-d2c2-42e9-8b86-71c335596849",
   "metadata": {},
   "outputs": [],
   "source": [
    "configs = strategy.ask(4)\n",
    "configs"
   ]
  },
  {
   "cell_type": "code",
   "execution_count": null,
   "id": "6ca18908-7845-4809-9e29-84a3bddd4e58",
   "metadata": {},
   "outputs": [],
   "source": [
    "values = [fake_train(**c) for c in configs]\n",
    "strategy.tell(configs, values)\n",
    "strategy.log"
   ]
  },
  {
   "cell_type": "code",
   "execution_count": null,
   "id": "8aa38ed1-978f-4517-8889-cef7c700134f",
   "metadata": {},
   "outputs": [],
   "source": [
    "configs = strategy.ask(5)\n",
    "configs"
   ]
  },
  {
   "cell_type": "code",
   "execution_count": null,
   "id": "d4e6a15b-2384-440b-b4d6-d0f87670acd5",
   "metadata": {},
   "outputs": [],
   "source": [
    "strategy.all_evaluated_params"
   ]
  },
  {
   "cell_type": "markdown",
   "id": "d91a5267-ce18-4bc7-b426-814b0c36729f",
   "metadata": {},
   "source": [
    "# `hyperopt` decorator - minimal search wrapper\n",
    "\n",
    "Note: Assumes that function to evaluate directly consumes a configuration dictionary."
   ]
  },
  {
   "cell_type": "code",
   "execution_count": null,
   "id": "f19fefb1-63e2-43f9-a7b8-dcb56fc7ff4c",
   "metadata": {},
   "outputs": [],
   "source": [
    "from mle_hyperopt import hyperopt\n",
    "\n",
    "@hyperopt(strategy_type=\"grid\",\n",
    "          num_search_iters=25,\n",
    "          real={\"x\": {\"begin\": 0., \"end\": 0.5, \"bins\": 5},\n",
    "                \"y\": {\"begin\": 0, \"end\": 0.5, \"bins\": 5}})\n",
    "def circle_objective(config):\n",
    "    distance = abs((config[\"x\"] ** 2 + config[\"y\"] ** 2))\n",
    "    return distance\n",
    "\n",
    "strategy = circle_objective()\n",
    "strategy.log"
   ]
  },
  {
   "cell_type": "code",
   "execution_count": null,
   "id": "cbd4b727-21b6-4b80-9b59-2ccb37e58695",
   "metadata": {},
   "outputs": [],
   "source": [
    "strategy.to_df()"
   ]
  },
  {
   "cell_type": "code",
   "execution_count": null,
   "id": "6cf4a3a9-a8d6-45ae-b65f-e5d795a520ce",
   "metadata": {},
   "outputs": [],
   "source": [
    "import numpy as np\n",
    "import matplotlib.pyplot as plt"
   ]
  },
  {
   "cell_type": "code",
   "execution_count": null,
   "id": "c87dcc1e-20e2-4a2f-ab26-3261343cdebb",
   "metadata": {},
   "outputs": [],
   "source": [
    "x = np.linspace(0, 2, 50)\n",
    "plt.plot(np.log(x))"
   ]
  },
  {
   "cell_type": "code",
   "execution_count": null,
   "id": "506b00ad-dcf3-4ad0-98db-09cd330336f3",
   "metadata": {},
   "outputs": [],
   "source": [
    "uni = []\n",
    "log_uni = []\n",
    "for i in range(1000):\n",
    "    uni.append(np.random.uniform(0.01, 1))\n",
    "    x = np.random.uniform(np.log(0.01), np.log(1))\n",
    "    log_uni.append(np.exp(x))"
   ]
  },
  {
   "cell_type": "code",
   "execution_count": null,
   "id": "323a16ff-c215-4ca1-a18e-74efeace72d8",
   "metadata": {},
   "outputs": [],
   "source": [
    "plt.hist(uni)"
   ]
  },
  {
   "cell_type": "code",
   "execution_count": null,
   "id": "1ce20e05-3aa2-4944-8458-f298e25af52e",
   "metadata": {},
   "outputs": [],
   "source": [
    "plt.hist(log_uni)"
   ]
  },
  {
   "cell_type": "code",
   "execution_count": null,
   "id": "b421e9eb-1b17-4a8e-ba10-332d8eec64b5",
   "metadata": {},
   "outputs": [],
   "source": []
  }
 ],
 "metadata": {
  "kernelspec": {
   "display_name": "Python3 (mle-toolbox)",
   "language": "python",
   "name": "mle-toolbox"
  },
  "language_info": {
   "codemirror_mode": {
    "name": "ipython",
    "version": 3
   },
   "file_extension": ".py",
   "mimetype": "text/x-python",
   "name": "python",
   "nbconvert_exporter": "python",
   "pygments_lexer": "ipython3",
   "version": "3.9.6"
  }
 },
 "nbformat": 4,
 "nbformat_minor": 5
}
