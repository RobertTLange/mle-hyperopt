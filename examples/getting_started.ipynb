{
 "cells": [
  {
   "cell_type": "markdown",
   "id": "08f9d077-64ed-4dc3-b772-498569e96d2b",
   "metadata": {
    "tags": []
   },
   "source": [
    "# `mle-hyperopt`: Lightweight Hyperparameter Optimization\n",
    "### Author: [@RobertTLange](https://twitter.com/RobertTLange) [Last Update: October 2021] [![Colab](https://colab.research.google.com/assets/colab-badge.svg)](https://colab.research.google.com/github/RobertTLange/mle-logging/blob/main/examples/getting_started.ipynb)"
   ]
  },
  {
   "cell_type": "code",
   "execution_count": 1,
   "id": "35d6d0bc-7789-439d-8ba9-e5c2619bfee0",
   "metadata": {},
   "outputs": [],
   "source": [
    "%load_ext autoreload\n",
    "%autoreload 2\n",
    "%config InlineBackend.figure_format = 'retina'\n",
    "\n",
    "#!pip install -q mle-hyperopt\n",
    "from mle_hyperopt import RandomSearch"
   ]
  },
  {
   "cell_type": "code",
   "execution_count": null,
   "id": "19c7488b-34a3-47fc-837a-f088cfaa48ab",
   "metadata": {},
   "outputs": [],
   "source": [
    "# Instantiate random search class\n",
    "strategy = RandomSearch(hyperspace={})\n",
    "\n",
    "# Simple ask - eval - tell API\n",
    "configs = strategy.ask(batch_size=1)\n",
    "values = func_to_eval(configs)\n",
    "strategy.tell(configs, values)\n",
    "\n",
    "# Storing & reloading of results from .pkl\n",
    "strategy.save(\"random_search_log.pkl\")\n",
    "strategy.load(\"random_search_log.pkl\")\n",
    "strategy = RandomSearch(reload_path=\"random_search_log.pkl\")"
   ]
  }
 ],
 "metadata": {
  "kernelspec": {
   "display_name": "Python3 (mle-toolbox)",
   "language": "python",
   "name": "mle-toolbox"
  },
  "language_info": {
   "codemirror_mode": {
    "name": "ipython",
    "version": 3
   },
   "file_extension": ".py",
   "mimetype": "text/x-python",
   "name": "python",
   "nbconvert_exporter": "python",
   "pygments_lexer": "ipython3",
   "version": "3.9.6"
  }
 },
 "nbformat": 4,
 "nbformat_minor": 5
}
